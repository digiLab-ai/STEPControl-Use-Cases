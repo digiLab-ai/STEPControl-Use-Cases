{
  "cells": [
    {
      "cell_type": "code",
      "execution_count": 15,
      "metadata": {
        "id": "xxs5H2aXrAqr"
      },
      "outputs": [],
      "source": [
        "import intake\n",
        "import numpy as np\n",
        "import matplotlib.pyplot as plt\n",
        "import pandas as pd\n",
        "from pprint import pprint\n",
        "import random\n",
        "intake.__version__\n",
        "import csv\n",
        "import os\n",
        "import imageio"
      ]
    },
    {
      "cell_type": "code",
      "execution_count": 26,
      "metadata": {},
      "outputs": [
        {
          "data": {
            "image/png": "[encoded data removed]",
            "text/plain": [
              "<Figure size 640x480 with 1 Axes>"
            ]
          },
          "metadata": {},
          "output_type": "display_data"
        },
        {
          "name": "stdout",
          "output_type": "stream",
          "text": [
            "             Wave 1          Wave 2          Wave 3          Wave 4  \\\n",
            "0    amb_fl/cc04 \\n  amb_ccbv18  \\n  amb_ccbv14  \\n  amb_ccbv34  \\n   \n",
            "1    amb_ccbv15  \\n  amb_fl/p3l/2\\n     amb_obv09\\n     amb_obv09\\n   \n",
            "2    amb_ccbv04  \\n  amb_ccbv36  \\n  amb_fl/p5l/3\\n     amb_obr04\\n   \n",
            "3    amb_fl/p3u/3\\n  amb_ccbv20  \\n  amb_fl/p6l/1\\n     amb_obr06\\n   \n",
            "4    amb_ccbv36  \\n     amb_obv19\\n     amb_obr13\\n  amb_fl/p5l/3\\n   \n",
            "..              ...             ...             ...             ...   \n",
            "119             NaN             NaN             NaN             NaN   \n",
            "120             NaN             NaN             NaN             NaN   \n",
            "121             NaN             NaN             NaN             NaN   \n",
            "122             NaN             NaN             NaN             NaN   \n",
            "123             NaN             NaN             NaN             NaN   \n",
            "\n",
            "             Wave 5          Wave 0  \n",
            "0    amb_fl/cc09 \\n  amb_ccbv01  \\n  \n",
            "1    amb_ccbv34  \\n  amb_ccbv02  \\n  \n",
            "2               NaN  amb_ccbv03  \\n  \n",
            "3               NaN  amb_ccbv04  \\n  \n",
            "4               NaN  amb_ccbv05  \\n  \n",
            "..              ...             ...  \n",
            "119             NaN  amb_fl/p5l/2\\n  \n",
            "120             NaN  amb_fl/p5l/3\\n  \n",
            "121             NaN  amb_fl/p5l/4\\n  \n",
            "122             NaN  amb_fl/p6l/1\\n  \n",
            "123             NaN  amb_fl/p6l/2\\n  \n",
            "\n",
            "[124 rows x 6 columns]\n"
          ]
        }
      ],
      "source": [
        "fig, axs = plt.subplots(1,1)\n",
        "# Function to extract the four numbers from each entry in the file\n",
        "def extract_numbers_from_file(file_path):\n",
        "    sensor_names = []\n",
        "    sensor_data = []\n",
        "    with open(file_path, 'r') as file:\n",
        "        lines = file.readlines()\n",
        "        for line in lines:\n",
        "            if line.startswith(\"a\"):  # The line containing the four numbers\n",
        "                # if \"fl\" not in str(line):\n",
        "                #     continue\n",
        "                sensor_names.append(str(line))\n",
        "            if line.startswith(\"           1   \"):  # The line containing the four numbers\n",
        "                numbers = list(map(float, line.split()[1:]))  # Extract and convert to float\n",
        "                # if len(numbers)==4:\n",
        "                #     continue\n",
        "                sensor_data.append([numbers[0],numbers[1],numbers[2]])\n",
        "    return sensor_data,sensor_names\n",
        "# Specify the path to your data file\n",
        "file_path = 'Data//Input//EFIT_efit_data_detectors.dat_M4'  # Replace with your actual file path\n",
        "\n",
        "# Extract the numbers from the file\n",
        "sensor_characteristics,sensor_names  = extract_numbers_from_file(file_path)\n",
        "# print(numbers_list)\n",
        "sensor_characteristics = np.array(sensor_characteristics)\n",
        "# Output the extracted numbers\n",
        "for i in range(len(sensor_characteristics)):\n",
        "    if \"fl\" in sensor_names[i]:\n",
        "        plt.plot(sensor_characteristics[i][0],sensor_characteristics[i][1],\".\",color=\"b\")\n",
        "    else: \n",
        "        plt.plot(sensor_characteristics[i][0],sensor_characteristics[i][1],\".\",color=\"r\")\n",
        "sensor_drop_data = {\n",
        "    \"Wave 1\": [],\n",
        "    \"Wave 2\": [],\n",
        "    \"Wave 3\": [],\n",
        "    \"Wave 4\": [],\n",
        "    \"Wave 5\": [],\n",
        "}\n",
        "axs.set_aspect('equal')\n",
        "plt.show()\n",
        "random.seed(42)\n",
        "sensor_drop_data[\"Wave 0\"] = sensor_names\n",
        "sensor_drop_data[\"Wave 1\"] = random.sample(sensor_names,93)\n",
        "sensor_drop_data[\"Wave 2\"] = random.sample(sensor_drop_data[\"Wave 1\"],62)\n",
        "sensor_drop_data[\"Wave 3\"] = random.sample(sensor_drop_data[\"Wave 2\"],25)\n",
        "sensor_drop_data[\"Wave 4\"] = random.sample(sensor_drop_data[\"Wave 3\"],7)\n",
        "sensor_drop_data[\"Wave 5\"] = random.sample(sensor_drop_data[\"Wave 4\"],2)\n",
        "\n",
        "temp_dir = \"gif_images//\"\n",
        "if not os.path.isdir(temp_dir):\n",
        "    os.mkdir(temp_dir)\n",
        "frames = []\n",
        "for j in range(6):\n",
        "    fig,axs = plt.subplots(1,1)\n",
        "    indices_keptsensors = np.where(np.isin(sensor_names, sensor_drop_data[\"Wave \"+str(j)]))[0]\n",
        "    for i in range(len(sensor_characteristics)):\n",
        "            plt.plot(sensor_characteristics[i][0],sensor_characteristics[i][1],\"s\",color=\"grey\",alpha=0.8,markersize=3)\n",
        "    for i in indices_keptsensors:\n",
        "            plt.plot(sensor_characteristics[i][0],sensor_characteristics[i][1],\"s\",color=\"#009fe3ff\",markersize=3)\n",
        "    axs.set_aspect('equal')   \n",
        "    axs.set_xlabel(\"R (m)\")\n",
        "    axs.set_ylabel(\"Z (m)\")    \n",
        "    frame_path = \"gif_images//\" + str(i) + \".png\"\n",
        "    plt.title(\"# sensors = \"+str(len(indices_keptsensors)))\n",
        "    plt.savefig(frame_path,bbox_inches=\"tight\",dpi=500)     \n",
        "    frames.append(imageio.v3.imread(frame_path))    \n",
        "    plt.close()\n",
        "output_gif = \"animated_plot.gif\"\n",
        "imageio.mimsave(\n",
        "    \"Images//\" + output_gif, frames, duration=1000,loop=10\n",
        ")  # Adjust duration as needed\n",
        "\n",
        "# Cleanup: remove temporary images\n",
        "for file in os.listdir(temp_dir):\n",
        "    os.remove(os.path.join(temp_dir, file))\n",
        "os.rmdir(temp_dir)\n",
        "\n",
        "\n",
        "df = pd.DataFrame(dict([(k, pd.Series(v)) for k, v in sensor_drop_data.items()]))\n",
        "print(df)\n",
        "df.to_csv(\"Data//Output//kept_sensors.csv\", index=False)\n"
      ]
    },
    {
      "cell_type": "markdown",
      "metadata": {
        "id": "jElHsw_trAqr"
      },
      "source": [
        "First let's take a look at the top level shots. In this table we can find all of the metadata we have about particular shots."
      ]
    }
  ],
  "metadata": {
    "colab": {
      "provenance": []
    },
    "kernelspec": {
      "display_name": "3.11.9",
      "language": "python",
      "name": "python3"
    },
    "language_info": {
      "codemirror_mode": {
        "name": "ipython",
        "version": 3
      },
      "file_extension": ".py",
      "mimetype": "text/x-python",
      "name": "python",
      "nbconvert_exporter": "python",
      "pygments_lexer": "ipython3",
      "version": "3.11.9"
    }
  },
  "nbformat": 4,
  "nbformat_minor": 0
}
